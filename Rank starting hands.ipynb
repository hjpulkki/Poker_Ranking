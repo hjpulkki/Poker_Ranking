{
 "cells": [
  {
   "cell_type": "code",
   "execution_count": null,
   "metadata": {
    "collapsed": true
   },
   "outputs": [],
   "source": [
    "from deuces import *\n",
    "from th_poker_ranking import rank_array\n",
    "import itertools\n",
    "\n",
    "import matplotlib.pyplot as plt\n",
    "%matplotlib inline"
   ]
  },
  {
   "cell_type": "code",
   "execution_count": null,
   "metadata": {
    "collapsed": true
   },
   "outputs": [],
   "source": [
    "C = Card()\n",
    "E = Evaluator()\n",
    "def rank_deuces_hand(hand):\n",
    "    # Add two to the numbers since deuces does numbering for 0-12 and not 2-14. Wheel is not correct.\n",
    "    return rank_array([(C.get_rank_int(card)+2, C.get_suit_int(card)) for card in hand], canadian=True)"
   ]
  },
  {
   "cell_type": "markdown",
   "metadata": {},
   "source": [
    "# Evaluate single card"
   ]
  },
  {
   "cell_type": "code",
   "execution_count": null,
   "metadata": {
    "collapsed": true
   },
   "outputs": [],
   "source": [
    "n_players = 2\n",
    "card_wins = {}\n",
    "card_count = {}\n",
    "for c in Deck().draw(52):\n",
    "    card_wins[c] = 0\n",
    "    card_count[c] = 0\n",
    "\n",
    "for i in range(10000):\n",
    "    deck = Deck()\n",
    "    hands = [deck.draw(5) for i in range(n_players)]\n",
    "    scores = [rank_deuces_hand(hand) for hand in hands]\n",
    "    winner = scores.index(max(scores))\n",
    "    for hand_index, hand in enumerate(hands):\n",
    "        for card in hand:\n",
    "            card_count[card] += 1\n",
    "            if hand_index == winner:\n",
    "                card_wins[card] += 1"
   ]
  },
  {
   "cell_type": "code",
   "execution_count": null,
   "metadata": {},
   "outputs": [],
   "source": [
    "import pandas as pd \n",
    "df = pd.DataFrame()\n",
    "df['card'] = card_count.keys()\n",
    "df['card_wins'] = card_wins.values()\n",
    "df['card_count'] = card_count.values()\n",
    "df['equity'] = df['card_wins']/df['card_count']\n",
    "df['pretty_str'] = df.card.apply(lambda x: C.int_to_pretty_str(x))\n",
    "df.sort_values('equity', ascending=False).head(5)"
   ]
  },
  {
   "cell_type": "markdown",
   "metadata": {},
   "source": [
    "# Evaluate visible cards"
   ]
  },
  {
   "cell_type": "code",
   "execution_count": null,
   "metadata": {
    "collapsed": true
   },
   "outputs": [],
   "source": [
    "def add_one(dictionary, key):\n",
    "    if key not in dictionary:\n",
    "        dictionary[key] = 0\n",
    "    dictionary[key] += 1\n",
    "\n",
    "def val(c):\n",
    "    return C.get_rank_int(c)+2\n",
    "    \n",
    "n_players = 2\n",
    "card_wins = {}\n",
    "card_counts = {}\n",
    "\n",
    "for i in range(200000):\n",
    "    deck = Deck()\n",
    "    hands = [deck.draw(5) for i in range(n_players)]\n",
    "    scores = [rank_deuces_hand(hand) for hand in hands]\n",
    "    winner = scores.index(max(scores))\n",
    "    for c1 in hands[0]:\n",
    "        for c2 in hands[1]:\n",
    "            key = (val(c1), val(c2))\n",
    "            add_one(card_counts, key)\n",
    "            if 0 == winner:\n",
    "                add_one(card_wins, key)"
   ]
  },
  {
   "cell_type": "code",
   "execution_count": null,
   "metadata": {
    "collapsed": true
   },
   "outputs": [],
   "source": [
    "df = pd.DataFrame()\n",
    "df['count'] = card_counts.values()\n",
    "df.index = card_counts.keys()\n",
    "\n",
    "df_wins = pd.DataFrame()\n",
    "df_wins['wins'] = card_wins.values()\n",
    "df_wins.index = card_wins.keys()\n",
    "\n",
    "df['wins'] = df_wins['wins']\n",
    "\n",
    "df['equity'] = df['wins']/df['count']\n",
    "df = df.reset_index()\n",
    "df['my_visible_card'] = df['index'].apply(lambda x: x[0])\n",
    "df['opponent_visible_card'] = df['index'].apply(lambda x: x[1])\n",
    "# df['pretty_str'] = df.card.apply(lambda x: C.int_to_pretty_str(x))\n",
    "pivot = pd.pivot(index=df['my_visible_card'], columns=df['opponent_visible_card'], values=df['equity'])"
   ]
  },
  {
   "cell_type": "code",
   "execution_count": null,
   "metadata": {
    "collapsed": true
   },
   "outputs": [],
   "source": [
    "from matplotlib import pyplot as plt\n",
    "%matplotlib inline"
   ]
  },
  {
   "cell_type": "code",
   "execution_count": null,
   "metadata": {},
   "outputs": [],
   "source": [
    "plt.imshow(pivot)"
   ]
  },
  {
   "cell_type": "code",
   "execution_count": null,
   "metadata": {
    "collapsed": true
   },
   "outputs": [],
   "source": [
    "df['diff'] = df['my_visible_card']-df['opponent_visible_card']"
   ]
  },
  {
   "cell_type": "code",
   "execution_count": null,
   "metadata": {},
   "outputs": [],
   "source": [
    "plt.scatter(df['diff'], df['equity'])\n",
    "df['aces_me'] = df['my_visible_card'] == 14\n",
    "plt.scatter(df[df['aces_me']]['diff'], df[df['aces_me']]['equity'])\n",
    "df['aces_opponent'] = df['opponent_visible_card'] == 14\n",
    "plt.scatter(df[df['aces_opponent']]['diff'], df[df['aces_opponent']]['equity'])\n",
    "\n",
    "# import seaborn as sns\n",
    "# plt.scatter(x='diff', y='equity', hue=\"my_visible_card\", data=df)"
   ]
  },
  {
   "cell_type": "code",
   "execution_count": null,
   "metadata": {
    "collapsed": true
   },
   "outputs": [],
   "source": [
    "from sklearn import linear_model"
   ]
  },
  {
   "cell_type": "code",
   "execution_count": null,
   "metadata": {},
   "outputs": [],
   "source": [
    "model = linear_model.LinearRegression()\n",
    "model.fit(df[['diff', 'aces_me', 'aces_opponent']], df['equity'])"
   ]
  },
  {
   "cell_type": "code",
   "execution_count": null,
   "metadata": {},
   "outputs": [],
   "source": [
    "model.coef_"
   ]
  },
  {
   "cell_type": "markdown",
   "metadata": {},
   "source": [
    "# Evaluate hideen cards + visible cards"
   ]
  },
  {
   "cell_type": "code",
   "execution_count": null,
   "metadata": {
    "collapsed": true
   },
   "outputs": [],
   "source": [
    "def add_one(dictionary, key):\n",
    "    if key not in dictionary:\n",
    "        dictionary[key] = 0\n",
    "    dictionary[key] += 1\n",
    "\n",
    "def val(c):\n",
    "    return C.get_rank_int(c)+2\n",
    "    \n",
    "n_players = 2\n",
    "card_wins = {}\n",
    "card_counts = {}\n",
    "\n",
    "for i in range(200000):\n",
    "    deck = Deck()\n",
    "    hands = [deck.draw(5) for i in range(n_players)]\n",
    "    scores = [rank_deuces_hand(hand) for hand in hands]\n",
    "    winner = scores.index(max(scores))\n",
    "    for m1, m2 in itertools.combinations(hands[0], 2):\n",
    "        my_cards_suited = C.get_suit_int(m1) == C.get_suit_int(m2)\n",
    "        for c2 in hands[1]:\n",
    "            key = (val(m2), val(m1), my_cards_suited, val(c2))\n",
    "            add_one(card_counts, key)\n",
    "            if 0 == winner:\n",
    "                add_one(card_wins, key)"
   ]
  },
  {
   "cell_type": "code",
   "execution_count": null,
   "metadata": {
    "collapsed": true
   },
   "outputs": [],
   "source": [
    "df = pd.DataFrame()\n",
    "df['count'] = card_counts.values()\n",
    "df.index = card_counts.keys()\n",
    "\n",
    "df_wins = pd.DataFrame()\n",
    "df_wins['wins'] = card_wins.values()\n",
    "df_wins.index = card_wins.keys()\n",
    "\n",
    "df['wins'] = df_wins['wins']\n",
    "\n",
    "df['equity'] = df['wins']/df['count']\n",
    "df = df.reset_index()\n",
    "df['my_hidden_card'] = df['index'].apply(lambda x: x[0])\n",
    "df['my_visible_card'] = df['index'].apply(lambda x: x[1])\n",
    "df['my_cards_suited'] = df['index'].apply(lambda x: x[2])\n",
    "df['opponent_visible_card'] = df['index'].apply(lambda x: x[3])\n",
    "# df['pretty_str'] = df.card.apply(lambda x: C.int_to_pretty_str(x))\n",
    "# pivot = pd.pivot(index=df['my_visible_card'], columns=df[['opponent_visible_card']], values=df['equity'])"
   ]
  },
  {
   "cell_type": "code",
   "execution_count": null,
   "metadata": {},
   "outputs": [],
   "source": [
    "mask = (\n",
    "    (df['my_visible_card'] == 10)\n",
    "    & (df['opponent_visible_card'] == 5)\n",
    ")\n",
    "df[mask & df['my_cards_suited']].sort_values('my_hidden_card').plot.bar('my_hidden_card', 'equity')\n",
    "df[mask & (df['my_cards_suited'] == False)].sort_values('my_hidden_card').plot.bar('my_hidden_card', 'equity')"
   ]
  },
  {
   "cell_type": "markdown",
   "metadata": {},
   "source": [
    "# Evaluate current position"
   ]
  },
  {
   "cell_type": "code",
   "execution_count": null,
   "metadata": {
    "collapsed": true
   },
   "outputs": [],
   "source": [
    "from copy import deepcopy\n",
    "from joblib import Parallel, delayed"
   ]
  },
  {
   "cell_type": "code",
   "execution_count": null,
   "metadata": {
    "collapsed": true
   },
   "outputs": [],
   "source": [
    "def run_simulation(hands):\n",
    "    MC_hands = deepcopy(hands)\n",
    "    deck = Deck()\n",
    "    for hand in hands:\n",
    "        for card in hand:\n",
    "            deck.remove(card)\n",
    "        MC_hands = deepcopy(hands)\n",
    "\n",
    "    for hand in MC_hands:\n",
    "        while len(hand) < 5:\n",
    "            hand.append(deck.draw())\n",
    "\n",
    "    scores = [rank_deuces_hand(hand) for hand in MC_hands]\n",
    "    best_score = max(scores)\n",
    "    if scores[0] == best_score:\n",
    "        return 1 / scores.count(best_score)\n",
    "    return 0"
   ]
  },
  {
   "cell_type": "code",
   "execution_count": null,
   "metadata": {},
   "outputs": [],
   "source": [
    "original_hands = [[], []]\n",
    "N = 100\n",
    "equity = {}\n",
    "for hidden_1 in Deck.GetFullDeck():\n",
    "    cards_left = Deck()\n",
    "    cards_left.remove(hidden_1)\n",
    "    for hidden_2 in cards_left.cards:\n",
    "        hands = deepcopy(original_hands)\n",
    "        hands[0].append(hidden_1)\n",
    "        hands[1].append(hidden_2)\n",
    "        \n",
    "        if False:\n",
    "            wins = [run_simulation(hands) for i in range(N)]\n",
    "        else:\n",
    "            if __name__ == '__main__':\n",
    "                wins = Parallel(3)(delayed(run_simulation)(hands) for i in range(N))\n",
    "        equity[(hidden_1, hidden_2)] = sum(wins)/N\n",
    "        \n",
    "plt.hist(list(equity.values()))"
   ]
  },
  {
   "cell_type": "code",
   "execution_count": null,
   "metadata": {
    "collapsed": true
   },
   "outputs": [],
   "source": []
  },
  {
   "cell_type": "code",
   "execution_count": null,
   "metadata": {
    "collapsed": true
   },
   "outputs": [],
   "source": [
    "def hand_string(hand):\n",
    "    return \" \".join([C.int_to_pretty_str(card) for card in hand])"
   ]
  },
  {
   "cell_type": "code",
   "execution_count": null,
   "metadata": {},
   "outputs": [],
   "source": [
    "N = 1000\n",
    "\n",
    "hands = [[], []]\n",
    "deck = Deck()\n",
    "for i in range(5):\n",
    "    hands[0].append(deck.draw())\n",
    "    hands[1].append(deck.draw())\n",
    "    for i, hand in enumerate(hands):\n",
    "        print(\"Player {}: {}\".format(i+1, hand_string(hand)))\n",
    "        \n",
    "    # wins = sum([run_simulation(hands) for i in range(N)])\n",
    "    if __name__ == '__main__':\n",
    "        wins = sum(Parallel(-1)(delayed(run_simulation)(hands) for i in range(N)))\n",
    "        \n",
    "    equity = int(wins/N*100)\n",
    "    while True:\n",
    "        try:\n",
    "            estimate = float(input(\"Estimate Player 1 equity \"))\n",
    "        except:\n",
    "            print(\"Errror. Try again.\")\n",
    "        \n",
    "    error = estimate-equity\n",
    "    print(\"Player 1 equity: {}. Error: {}\".format(equity, error))"
   ]
  },
  {
   "cell_type": "code",
   "execution_count": null,
   "metadata": {
    "collapsed": true
   },
   "outputs": [],
   "source": []
  }
 ],
 "metadata": {
  "kernelspec": {
   "display_name": "Python 3",
   "language": "python",
   "name": "python3"
  },
  "language_info": {
   "codemirror_mode": {
    "name": "ipython",
    "version": 3
   },
   "file_extension": ".py",
   "mimetype": "text/x-python",
   "name": "python",
   "nbconvert_exporter": "python",
   "pygments_lexer": "ipython3",
   "version": "3.6.7"
  }
 },
 "nbformat": 4,
 "nbformat_minor": 2
}
